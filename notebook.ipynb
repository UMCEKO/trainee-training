{
 "cells": [
  {
   "cell_type": "code",
   "id": "initial_id",
   "metadata": {
    "collapsed": true,
    "ExecuteTime": {
     "end_time": "2024-06-13T17:20:22.453909Z",
     "start_time": "2024-06-13T17:20:19.128051Z"
    }
   },
   "source": [
    "import torch\n",
    "from diffusers import StableDiffusionXLPipeline"
   ],
   "outputs": [
    {
     "name": "stderr",
     "output_type": "stream",
     "text": [
      "A matching Triton is not available, some optimizations will not be enabled\n",
      "Traceback (most recent call last):\n",
      "  File \"P:\\Programming\\stockimg-trainee\\venv\\lib\\site-packages\\xformers\\__init__.py\", line 55, in _is_triton_available\n",
      "    from xformers.triton.softmax import softmax as triton_softmax  # noqa\n",
      "  File \"P:\\Programming\\stockimg-trainee\\venv\\lib\\site-packages\\xformers\\triton\\softmax.py\", line 11, in <module>\n",
      "    import triton\n",
      "ModuleNotFoundError: No module named 'triton'\n"
     ]
    }
   ],
   "execution_count": 1
  },
  {
   "metadata": {
    "ExecuteTime": {
     "end_time": "2024-06-13T17:32:24.369729Z",
     "start_time": "2024-06-13T17:32:16.808531Z"
    }
   },
   "cell_type": "code",
   "source": [
    "pipe = StableDiffusionXLPipeline.from_pretrained(\n",
    "    pretrained_model_name_or_path=\"stabilityai/stable-diffusion-xl-base-1.0\",\n",
    "    torch_dtype=torch.float16\n",
    ")\n"
   ],
   "id": "66b9e8a61a0ae42b",
   "outputs": [
    {
     "data": {
      "text/plain": [
       "Loading pipeline components...:   0%|          | 0/7 [00:00<?, ?it/s]"
      ],
      "application/vnd.jupyter.widget-view+json": {
       "version_major": 2,
       "version_minor": 0,
       "model_id": "349ee04057ce4fa1b198fc95d368aa21"
      }
     },
     "metadata": {},
     "output_type": "display_data"
    }
   ],
   "execution_count": 9
  },
  {
   "metadata": {
    "ExecuteTime": {
     "end_time": "2024-06-13T17:32:25.438747Z",
     "start_time": "2024-06-13T17:32:24.370732Z"
    }
   },
   "cell_type": "code",
   "source": [
    "pipe.to('cuda')\n",
    "pipe.enable_xformers_memory_efficient_attention()"
   ],
   "id": "60252a7807ed1a5f",
   "outputs": [],
   "execution_count": 10
  },
  {
   "metadata": {
    "ExecuteTime": {
     "end_time": "2024-06-13T17:32:27.268946Z",
     "start_time": "2024-06-13T17:32:25.439752Z"
    }
   },
   "cell_type": "code",
   "source": [
    "pipe.load_lora_weights(\n",
    "    pretrained_model_name_or_path_or_dict=r\"C:\\Users\\UMCEKO\\Downloads\\last (1).safetensors\",\n",
    ")"
   ],
   "id": "e31ed7ec15b6b73f",
   "outputs": [],
   "execution_count": 11
  },
  {
   "metadata": {
    "ExecuteTime": {
     "end_time": "2024-06-13T17:32:27.606942Z",
     "start_time": "2024-06-13T17:32:27.270967Z"
    }
   },
   "cell_type": "code",
   "source": "pipe.fuse_lora(lora_scale=1)",
   "id": "a6c13bee7bc05a48",
   "outputs": [],
   "execution_count": 12
  },
  {
   "metadata": {
    "ExecuteTime": {
     "end_time": "2024-06-13T17:32:35.093587Z",
     "start_time": "2024-06-13T17:32:27.608037Z"
    }
   },
   "cell_type": "code",
   "source": [
    "images = pipe(\n",
    "    prompt=\"a close up photo of a blue flower\",\n",
    "    negative_prompt=\"\",\n",
    "    width=1024,\n",
    "    height=1024,\n",
    "    guidance_scale=6\n",
    ")"
   ],
   "id": "69bea19e0551d3d9",
   "outputs": [
    {
     "data": {
      "text/plain": [
       "  0%|          | 0/50 [00:00<?, ?it/s]"
      ],
      "application/vnd.jupyter.widget-view+json": {
       "version_major": 2,
       "version_minor": 0,
       "model_id": "96b83bac269c459198173cb58772336b"
      }
     },
     "metadata": {},
     "output_type": "display_data"
    }
   ],
   "execution_count": 13
  },
  {
   "metadata": {
    "ExecuteTime": {
     "end_time": "2024-06-13T17:32:39.157938Z",
     "start_time": "2024-06-13T17:32:35.094609Z"
    }
   },
   "cell_type": "code",
   "source": "images[0][0].show()",
   "id": "f87403aef194eb4b",
   "outputs": [],
   "execution_count": 14
  },
  {
   "metadata": {
    "ExecuteTime": {
     "end_time": "2024-06-13T17:20:51.798102Z",
     "start_time": "2024-06-13T17:20:51.782978Z"
    }
   },
   "cell_type": "code",
   "source": "",
   "id": "b1af79be044e8a33",
   "outputs": [],
   "execution_count": 7
  }
 ],
 "metadata": {
  "kernelspec": {
   "display_name": "Python 3",
   "language": "python",
   "name": "python3"
  },
  "language_info": {
   "codemirror_mode": {
    "name": "ipython",
    "version": 2
   },
   "file_extension": ".py",
   "mimetype": "text/x-python",
   "name": "python",
   "nbconvert_exporter": "python",
   "pygments_lexer": "ipython2",
   "version": "2.7.6"
  }
 },
 "nbformat": 4,
 "nbformat_minor": 5
}
